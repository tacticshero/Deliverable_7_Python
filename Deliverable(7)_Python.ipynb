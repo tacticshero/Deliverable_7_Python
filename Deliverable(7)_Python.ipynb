{
  "nbformat": 4,
  "nbformat_minor": 0,
  "metadata": {
    "colab": {
      "provenance": [],
      "authorship_tag": "ABX9TyO9NzrLarWcdXAllTIN/eCy",
      "include_colab_link": true
    },
    "kernelspec": {
      "name": "python3",
      "display_name": "Python 3"
    },
    "language_info": {
      "name": "python"
    }
  },
  "cells": [
    {
      "cell_type": "markdown",
      "metadata": {
        "id": "view-in-github",
        "colab_type": "text"
      },
      "source": [
        "<a href=\"https://colab.research.google.com/github/tacticshero/Deliverable_7_Python/blob/main/Deliverable(7)_Python.ipynb\" target=\"_parent\"><img src=\"https://colab.research.google.com/assets/colab-badge.svg\" alt=\"Open In Colab\"/></a>"
      ]
    },
    {
      "cell_type": "code",
      "execution_count": 6,
      "metadata": {
        "id": "jodW4HGC9y2F"
      },
      "outputs": [],
      "source": [
        "import numpy as np"
      ]
    },
    {
      "cell_type": "code",
      "source": [
        "def get_random_array (array_len):\n",
        "  return np.random.randint(10,50,array_len)"
      ],
      "metadata": {
        "id": "P-AyWJtK-zTC"
      },
      "execution_count": 21,
      "outputs": []
    },
    {
      "cell_type": "code",
      "source": [
        "def get_array_sum(array):\n",
        "  return sum(array)"
      ],
      "metadata": {
        "id": "O3OA8ocMBFF3"
      },
      "execution_count": 22,
      "outputs": []
    },
    {
      "cell_type": "code",
      "source": [
        "array_length = ''\n",
        "\n",
        "while True:\n",
        "  try:\n",
        "    array_length = int(input(\"Enter an integer between 5 and 15, inclusive: \"))\n",
        "  except ValueError:\n",
        "    print(\"enter a a valid integer\")\n",
        "    continue\n",
        "\n",
        "  if array_length < 5 or array_length > 15:\n",
        "    print(\"input outside range\")\n",
        "    continue\n",
        "  else:\n",
        "    array = get_random_array(array_length)\n",
        "    array_sum = get_array_sum(array)\n",
        "\n",
        "    print(f\"\\nThe elements of the random array are: {array}\")\n",
        "    print(f\"The sum of the array is: {array_sum}\")\n",
        "    break"
      ],
      "metadata": {
        "colab": {
          "base_uri": "https://localhost:8080/"
        },
        "id": "Q1IHZRszB2vQ",
        "outputId": "2e03428c-29fb-4b49-ad9a-1a5766e4e1c6"
      },
      "execution_count": 27,
      "outputs": [
        {
          "output_type": "stream",
          "name": "stdout",
          "text": [
            "Enter an integer between 5 and 15, inclusive: 10\n",
            "\n",
            "The elements of the random array are: [47 16 19 41 29 24 12 12 40 13]\n",
            "The sum of the array is: 253\n"
          ]
        }
      ]
    },
    {
      "cell_type": "code",
      "source": [],
      "metadata": {
        "id": "Zpbi67LnDtM_"
      },
      "execution_count": 19,
      "outputs": []
    }
  ]
}